{
 "cells": [
  {
   "cell_type": "markdown",
   "id": "ef364a55",
   "metadata": {},
   "source": [
    "# Import Packages"
   ]
  },
  {
   "cell_type": "code",
   "execution_count": 1,
   "id": "20c446de",
   "metadata": {},
   "outputs": [
    {
     "name": "stdout",
     "output_type": "stream",
     "text": [
      "Wed May 25 00:52:36 2022       \n",
      "+-----------------------------------------------------------------------------+\n",
      "| NVIDIA-SMI 450.119.04   Driver Version: 450.119.04   CUDA Version: 11.6     |\n",
      "|-------------------------------+----------------------+----------------------+\n",
      "| GPU  Name        Persistence-M| Bus-Id        Disp.A | Volatile Uncorr. ECC |\n",
      "| Fan  Temp  Perf  Pwr:Usage/Cap|         Memory-Usage | GPU-Util  Compute M. |\n",
      "|                               |                      |               MIG M. |\n",
      "|===============================+======================+======================|\n",
      "|   0  Tesla V100-SXM2...  On   | 00000000:3D:00.0 Off |                    0 |\n",
      "| N/A   29C    P0    66W / 300W |      0MiB / 32510MiB |      0%      Default |\n",
      "|                               |                      |                  N/A |\n",
      "+-------------------------------+----------------------+----------------------+\n",
      "                                                                               \n",
      "+-----------------------------------------------------------------------------+\n",
      "| Processes:                                                                  |\n",
      "|  GPU   GI   CI        PID   Type   Process name                  GPU Memory |\n",
      "|        ID   ID                                                   Usage      |\n",
      "|=============================================================================|\n",
      "|  No running processes found                                                 |\n",
      "+-----------------------------------------------------------------------------+\n"
     ]
    }
   ],
   "source": [
    "!nvidia-smi"
   ]
  },
  {
   "cell_type": "code",
   "execution_count": null,
   "id": "0bfad60f",
   "metadata": {},
   "outputs": [],
   "source": [
    "! pip -q install gdown"
   ]
  },
  {
   "cell_type": "code",
   "execution_count": 3,
   "id": "e5524a32",
   "metadata": {},
   "outputs": [],
   "source": [
    "import os\n",
    "import glob\n",
    "import numpy as np\n",
    "import random\n",
    "import cv2\n",
    "import matplotlib.pyplot as plt\n",
    "import PIL\n",
    "from PIL import Image\n",
    "import json\n",
    "import torch\n",
    "import shutil\n",
    "\n",
    "from torch.utils.data import DataLoader\n",
    "from torch.utils.data import Dataset as BaseDataset\n",
    "import torch.nn.functional as F\n",
    "\n",
    "import torch\n",
    "import numpy as np\n",
    "import segmentation_models_pytorch as smp\n",
    "from torch import nn"
   ]
  },
  {
   "cell_type": "code",
   "execution_count": 4,
   "id": "dab0ef06",
   "metadata": {},
   "outputs": [],
   "source": [
    "myseed = 2022\n",
    "torch.backends.cudnn.deterministic = True\n",
    "torch.backends.cudnn.benchmark = False\n",
    "np.random.seed(myseed)\n",
    "random.seed(myseed)\n",
    "torch.manual_seed(myseed)\n",
    "if torch.cuda.is_available():\n",
    "    torch.cuda.manual_seed_all(myseed)"
   ]
  },
  {
   "cell_type": "markdown",
   "id": "8764ed02",
   "metadata": {},
   "source": [
    "# Preprocessing"
   ]
  },
  {
   "cell_type": "markdown",
   "id": "bcc4dcd8",
   "metadata": {},
   "source": [
    "## Mask"
   ]
  },
  {
   "cell_type": "code",
   "execution_count": 7,
   "id": "eca9868c",
   "metadata": {},
   "outputs": [],
   "source": [
    "dataset_root = './Data/SEG_Train_Datasets'\n",
    "anno_path = os.path.join(dataset_root, 'Train_Annotations')\n",
    "\n",
    "mask_path = os.path.join(dataset_root, 'Train_Masks')\n",
    "os.makedirs(os.path.join(dataset_root, 'Train_Masks'), exist_ok=True)\n",
    "for jsonfile in os.listdir(anno_path):\n",
    "    f = open(os.path.join(anno_path, jsonfile))\n",
    "    data = json.load(f)\n",
    "    mask = np.zeros((data['imageHeight'], data['imageWidth'], 1), dtype=np.uint8)\n",
    "    for polygan in data['shapes']:\n",
    "        pts = np.array(polygan['points'], dtype=np.int32)\n",
    "        cv2.fillPoly(mask, [pts], color=255)\n",
    "    save_mask_path = jsonfile.split('.')[0] + '.png'\n",
    "    save_mask_path = os.path.join(mask_path, save_mask_path)\n",
    "    cv2.imwrite(save_mask_path, mask)"
   ]
  },
  {
   "cell_type": "markdown",
   "id": "0a7843a9",
   "metadata": {},
   "source": [
    "## Split train, valid and test"
   ]
  },
  {
   "cell_type": "code",
   "execution_count": 8,
   "id": "177651be",
   "metadata": {},
   "outputs": [],
   "source": [
    "os.makedirs(os.path.join(dataset_root, 'Fold1_Images'), exist_ok=True)\n",
    "os.makedirs(os.path.join(dataset_root, 'Fold1_Masks'), exist_ok=True)\n",
    "\n",
    "os.makedirs(os.path.join(dataset_root, 'Fold2_Images'), exist_ok=True)\n",
    "os.makedirs(os.path.join(dataset_root, 'Fold2_Masks'), exist_ok=True)\n",
    "\n",
    "os.makedirs(os.path.join(dataset_root, 'Fold3_Images'), exist_ok=True)\n",
    "os.makedirs(os.path.join(dataset_root, 'Fold3_Masks'), exist_ok=True)\n",
    "\n",
    "os.makedirs(os.path.join(dataset_root, 'Fold4_Images'), exist_ok=True)\n",
    "os.makedirs(os.path.join(dataset_root, 'Fold4_Masks'), exist_ok=True)\n",
    "\n",
    "os.makedirs(os.path.join(dataset_root, 'Test_Images'), exist_ok=True)\n",
    "os.makedirs(os.path.join(dataset_root, 'Test_Masks'), exist_ok=True)"
   ]
  },
  {
   "cell_type": "code",
   "execution_count": 9,
   "id": "82b983b1",
   "metadata": {},
   "outputs": [],
   "source": [
    "img_list = sorted(os.listdir(os.path.join(dataset_root, 'Train_Images')))"
   ]
  },
  {
   "cell_type": "code",
   "execution_count": 10,
   "id": "506014ea",
   "metadata": {},
   "outputs": [],
   "source": [
    "num = len(os.listdir(os.path.join(dataset_root, 'Train_Images')))\n",
    "for i in range(4, len(img_list), 5):\n",
    "    img = img_list[i-4]\n",
    "    shutil.move(dataset_root+'/Train_Images/'+img, dataset_root+'/Fold1_Images')\n",
    "    shutil.move(dataset_root+'/Train_Masks/'+img.replace('.jpg','.png'), dataset_root+'/Fold1_Masks')\n",
    "    \n",
    "    img = img_list[i-3]\n",
    "    shutil.move(dataset_root+'/Train_Images/'+img, dataset_root+'/Fold2_Images')\n",
    "    shutil.move(dataset_root+'/Train_Masks/'+img.replace('.jpg','.png'), dataset_root+'/Fold2_Masks')\n",
    "\n",
    "    img = img_list[i-2]\n",
    "    shutil.move(dataset_root+'/Train_Images/'+img, dataset_root+'/Fold3_Images')\n",
    "    shutil.move(dataset_root+'/Train_Masks/'+img.replace('.jpg','.png'), dataset_root+'/Fold3_Masks')\n",
    "    \n",
    "    img = img_list[i-1]\n",
    "    shutil.move(dataset_root+'/Train_Images/'+img, dataset_root+'/Fold4_Images')\n",
    "    shutil.move(dataset_root+'/Train_Masks/'+img.replace('.jpg','.png'), dataset_root+'/Fold4_Masks')\n",
    "    \n",
    "    img = img_list[i]\n",
    "    shutil.move(dataset_root+'/Train_Images/'+img, dataset_root+'/Test_Images')\n",
    "    shutil.move(dataset_root+'/Train_Masks/'+img.replace('.jpg','.png'), dataset_root+'/Test_Masks')"
   ]
  },
  {
   "cell_type": "code",
   "execution_count": 11,
   "id": "ac5024bf",
   "metadata": {},
   "outputs": [],
   "source": [
    "for i in range(1050,1053):\n",
    "    img = img_list[i]\n",
    "    shutil.move(dataset_root+'/Train_Images/'+img, dataset_root+'/Test_Images')\n",
    "    shutil.move(dataset_root+'/Train_Masks/'+img.replace('.jpg','.png'), dataset_root+'/Test_Masks')"
   ]
  },
  {
   "cell_type": "code",
   "execution_count": 6,
   "id": "cca77790",
   "metadata": {},
   "outputs": [
    {
     "name": "stdout",
     "output_type": "stream",
     "text": [
      "Fold1 : 210\n",
      "Fold2 : 210\n",
      "Fold3 : 210\n",
      "Fold4 : 210\n",
      "Test set : 213\n"
     ]
    }
   ],
   "source": [
    "print('Fold1 :',len(os.listdir(os.path.join(dataset_root, 'Fold1_Images'))))\n",
    "print('Fold2 :',len(os.listdir(os.path.join(dataset_root, 'Fold2_Images'))))\n",
    "print('Fold3 :',len(os.listdir(os.path.join(dataset_root, 'Fold3_Images'))))\n",
    "print('Fold4 :',len(os.listdir(os.path.join(dataset_root, 'Fold4_Images'))))\n",
    "print('Test set :',len(os.listdir(os.path.join(dataset_root, 'Test_Images'))))"
   ]
  }
 ],
 "metadata": {
  "kernelspec": {
   "display_name": "Python 3 (ipykernel)",
   "language": "python",
   "name": "python3"
  },
  "language_info": {
   "codemirror_mode": {
    "name": "ipython",
    "version": 3
   },
   "file_extension": ".py",
   "mimetype": "text/x-python",
   "name": "python",
   "nbconvert_exporter": "python",
   "pygments_lexer": "ipython3",
   "version": "3.8.12"
  }
 },
 "nbformat": 4,
 "nbformat_minor": 5
}
